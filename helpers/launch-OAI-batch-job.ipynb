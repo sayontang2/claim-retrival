{
 "cells": [
  {
   "cell_type": "code",
   "execution_count": 1,
   "metadata": {},
   "outputs": [],
   "source": [
    "from openai import OpenAI\n",
    "from dotenv import load_dotenv \n",
    "load_dotenv()\n",
    "import os\n",
    "import ast\n",
    "import gc\n",
    "import numpy as np\n",
    "gc.disable()\n",
    "from copy import deepcopy as cc\n",
    "import pandas as pd\n",
    "from utils import (get_data, process_facts_df, process_posts_df, get_openai_batch_ip)"
   ]
  },
  {
   "cell_type": "code",
   "execution_count": 2,
   "metadata": {},
   "outputs": [],
   "source": [
    "# facts_df, posts_df, mapping_df = get_data(\"in_data/fact_checks.csv\", \"in_data/posts.csv\", \"in_data/fact_check_post_mapping.csv\")\n",
    "facts_df, posts_df, mapping_df = get_data(fact_path=\"sample_data/trial_fact_checks.csv\", posts_path=\"sample_data/trial_posts.csv\",\n",
    "                                                post2fact_mapping_path=\"sample_data/trial_data_mapping.csv\")\n",
    "facts_df = process_facts_df(facts_df)\n",
    "posts_df = process_posts_df(posts_df)"
   ]
  },
  {
   "cell_type": "code",
   "execution_count": 12,
   "metadata": {},
   "outputs": [],
   "source": [
    "model_size = 'small'\n",
    "# Transform the [post, fact, mapping] data into a format that can be batch-encoded (for getting embedding) by OpenAI models\n",
    "orig_facts_dfs =  get_openai_batch_ip(df = facts_df, model=f\"text-embedding-3-{model_size}\", key_col=\"fact_check_id\", encoding_col=\"facts_orig\")\n",
    "eng_facts_dfs =  get_openai_batch_ip(df = facts_df, model=f\"text-embedding-3-{model_size}\", key_col=\"fact_check_id\", encoding_col=\"facts_eng\")\n",
    "\n",
    "# Split the data into smaller chunks as there is batch size limit\n",
    "# orig_facts_dfs = np.array_split(orig_facts_dfs, 5)\n",
    "# eng_facts_dfs = np.array_split(eng_facts_dfs, 5)"
   ]
  },
  {
   "cell_type": "code",
   "execution_count": 13,
   "metadata": {},
   "outputs": [],
   "source": [
    "# only for eval data\n",
    "orig_facts_dfs.to_json(f'openai-ip/eval_orig_fact.jsonl', lines=True, orient=\"records\")\n",
    "eng_facts_dfs.to_json(f'openai-ip/eval_eng_fact.jsonl', lines=True, orient=\"records\")"
   ]
  },
  {
   "cell_type": "code",
   "execution_count": 4,
   "metadata": {},
   "outputs": [],
   "source": [
    "# only for training data\n",
    "for i, (e_fact, o_fact) in enumerate(zip(eng_facts_dfs, orig_facts_dfs)):\n",
    "    o_fact.to_json(f'openai-ip/eval_orig_fact_{model_size}_{i}.jsonl', lines=True, orient=\"records\")\n",
    "    e_fact.to_json(f'openai-ip/eval_eng_fact_{model_size}_{i}.jsonl', lines=True, orient=\"records\")"
   ]
  },
  {
   "cell_type": "code",
   "execution_count": 15,
   "metadata": {},
   "outputs": [],
   "source": [
    "model_size = 'small'\n",
    "l1_post_df =  get_openai_batch_ip(df = posts_df, model=f\"text-embedding-3-{model_size}\", key_col=\"post_id\", encoding_col=\"post_l1\")\n",
    "l2_post_df =  get_openai_batch_ip(df = posts_df, model=f\"text-embedding-3-{model_size}\", key_col=\"post_id\", encoding_col=\"post_l2\")\n",
    "\n",
    "l1_post_df.to_json(f'openai-ip/eval_l1_post_df.jsonl', lines=True, orient=\"records\")\n",
    "l2_post_df.to_json(f'openai-ip/eval_l2_post_df.jsonl', lines=True, orient=\"records\")"
   ]
  },
  {
   "cell_type": "code",
   "execution_count": 16,
   "metadata": {},
   "outputs": [],
   "source": [
    "client = OpenAI(api_key = os.getenv('OPENAI_API_KEY'))"
   ]
  },
  {
   "cell_type": "code",
   "execution_count": 11,
   "metadata": {},
   "outputs": [
    {
     "data": {
      "text/plain": [
       "['openai-ip/eng_fact_large_0.jsonl',\n",
       " 'openai-ip/eng_fact_large_1.jsonl',\n",
       " 'openai-ip/eng_fact_large_2.jsonl',\n",
       " 'openai-ip/eng_fact_large_3.jsonl',\n",
       " 'openai-ip/eng_fact_large_4.jsonl',\n",
       " 'openai-ip/orig_fact_large_0.jsonl',\n",
       " 'openai-ip/orig_fact_large_1.jsonl',\n",
       " 'openai-ip/orig_fact_large_2.jsonl',\n",
       " 'openai-ip/orig_fact_large_3.jsonl',\n",
       " 'openai-ip/orig_fact_large_4.jsonl',\n",
       " 'openai-ip/l1_post_large_df.jsonl',\n",
       " 'openai-ip/l2_post_large_df.jsonl']"
      ]
     },
     "execution_count": 11,
     "metadata": {},
     "output_type": "execute_result"
    }
   ],
   "source": [
    "# These are the files for gpt-small\n",
    "# files_to_be_processed = [f'openai-ip/eng_fact_{i}.jsonl' for i in range(len(eng_facts_dfs))]\n",
    "# files_to_be_processed += [f'openai-ip/orig_fact_{i}.jsonl' for i in range(len(orig_facts_dfs))]\n",
    "# files_to_be_processed += ['openai-ip/l1_post_df.jsonl', 'openai-ip/l2_post_df.jsonl']\n",
    "\n",
    "# These are the files for gpt-large\n",
    "files_to_be_processed = [f'openai-ip/eng_fact_{model_size}_{i}.jsonl' for i in range(len(eng_facts_dfs))]\n",
    "files_to_be_processed += [f'openai-ip/orig_fact_{model_size}_{i}.jsonl' for i in range(len(orig_facts_dfs))]\n",
    "files_to_be_processed += [f'openai-ip/l1_post_{model_size}_df.jsonl', f'openai-ip/l2_post_{model_size}_df.jsonl']\n",
    "\n",
    "files_to_be_processed"
   ]
  },
  {
   "cell_type": "code",
   "execution_count": 21,
   "metadata": {},
   "outputs": [
    {
     "data": {
      "text/plain": [
       "['openai-ip/eval_eng_fact_large.jsonl',\n",
       " 'openai-ip/eval_l1_post_df.jsonl',\n",
       " 'openai-ip/eval_eng_fact.jsonl',\n",
       " 'openai-ip/eval_orig_fact.jsonl',\n",
       " 'openai-ip/eval_l1_post_large_df.jsonl',\n",
       " 'openai-ip/eval_l2_post_df.jsonl',\n",
       " 'openai-ip/eval_l2_post_large_df.jsonl',\n",
       " 'openai-ip/eval_orig_fact_large.jsonl']"
      ]
     },
     "execution_count": 21,
     "metadata": {},
     "output_type": "execute_result"
    }
   ],
   "source": [
    "files_to_be_processed = [os.path.join('openai-ip', f) for f in os.listdir('openai-ip') if f.startswith('eval')]\n",
    "files_to_be_processed"
   ]
  },
  {
   "cell_type": "code",
   "execution_count": 22,
   "metadata": {},
   "outputs": [],
   "source": [
    "batch_file2ids = {}\n",
    "\n",
    "for file in files_to_be_processed:\n",
    "    batch_input_file = client.files.create(\n",
    "    file=open(file, \"rb\"),\n",
    "    purpose=\"batch\"\n",
    "    )\n",
    "    batch_input_file_id = batch_input_file.id\n",
    "    batch_response = client.batches.create(input_file_id=batch_input_file_id,\n",
    "                                        endpoint=\"/v1/embeddings\",\n",
    "                                        completion_window=\"24h\",\n",
    "                                        metadata={\"description\": f\"job for file at input: {file}; batch_input_file_id : {batch_input_file_id}\"})\n",
    "    batch_file2ids[file] = (batch_input_file_id, batch_response)"
   ]
  },
  {
   "cell_type": "code",
   "execution_count": 22,
   "metadata": {},
   "outputs": [],
   "source": [
    "batch_job = client.batches.retrieve('batch_w9ssRkTQYzHPT9wWtlLue4tZ')\n",
    "result_file_id = batch_job.output_file_id\n",
    "result = client.files.content(result_file_id).content"
   ]
  },
  {
   "cell_type": "code",
   "execution_count": 13,
   "metadata": {},
   "outputs": [
    {
     "data": {
      "text/plain": [
       "{'openai-ip/eng_fact_large_0.jsonl': ('file-Rmzgzso3hTYBebk3eZ6e1R8H',\n",
       "  Batch(id='batch_jHWZVxQJuvNRTY39Z78ed5cW', completion_window='24h', created_at=1723492838, endpoint='/v1/embeddings', input_file_id='file-Rmzgzso3hTYBebk3eZ6e1R8H', object='batch', status='validating', cancelled_at=None, cancelling_at=None, completed_at=None, error_file_id=None, errors=None, expired_at=None, expires_at=1723579238, failed_at=None, finalizing_at=None, in_progress_at=None, metadata={'description': 'job for file at input: openai-ip/eng_fact_large_0.jsonl; batch_input_file_id : file-Rmzgzso3hTYBebk3eZ6e1R8H'}, output_file_id=None, request_counts=BatchRequestCounts(completed=0, failed=0, total=0))),\n",
       " 'openai-ip/eng_fact_large_1.jsonl': ('file-mqJfhbQVRoNqldLejFI1q8wq',\n",
       "  Batch(id='batch_YaUd5r0Js4pBVw7NeEelZPF7', completion_window='24h', created_at=1723492840, endpoint='/v1/embeddings', input_file_id='file-mqJfhbQVRoNqldLejFI1q8wq', object='batch', status='validating', cancelled_at=None, cancelling_at=None, completed_at=None, error_file_id=None, errors=None, expired_at=None, expires_at=1723579240, failed_at=None, finalizing_at=None, in_progress_at=None, metadata={'description': 'job for file at input: openai-ip/eng_fact_large_1.jsonl; batch_input_file_id : file-mqJfhbQVRoNqldLejFI1q8wq'}, output_file_id=None, request_counts=BatchRequestCounts(completed=0, failed=0, total=0))),\n",
       " 'openai-ip/eng_fact_large_2.jsonl': ('file-PNxqqlet6kTXUgHd6vjFRg2A',\n",
       "  Batch(id='batch_kX801T739On6XlK30PSYncha', completion_window='24h', created_at=1723492841, endpoint='/v1/embeddings', input_file_id='file-PNxqqlet6kTXUgHd6vjFRg2A', object='batch', status='validating', cancelled_at=None, cancelling_at=None, completed_at=None, error_file_id=None, errors=None, expired_at=None, expires_at=1723579241, failed_at=None, finalizing_at=None, in_progress_at=None, metadata={'description': 'job for file at input: openai-ip/eng_fact_large_2.jsonl; batch_input_file_id : file-PNxqqlet6kTXUgHd6vjFRg2A'}, output_file_id=None, request_counts=BatchRequestCounts(completed=0, failed=0, total=0))),\n",
       " 'openai-ip/eng_fact_large_3.jsonl': ('file-vOHOs7jkfDJjFffruRdIx182',\n",
       "  Batch(id='batch_h27ZpmHvbwfhyEtJyMV1oSbK', completion_window='24h', created_at=1723492843, endpoint='/v1/embeddings', input_file_id='file-vOHOs7jkfDJjFffruRdIx182', object='batch', status='validating', cancelled_at=None, cancelling_at=None, completed_at=None, error_file_id=None, errors=None, expired_at=None, expires_at=1723579243, failed_at=None, finalizing_at=None, in_progress_at=None, metadata={'description': 'job for file at input: openai-ip/eng_fact_large_3.jsonl; batch_input_file_id : file-vOHOs7jkfDJjFffruRdIx182'}, output_file_id=None, request_counts=BatchRequestCounts(completed=0, failed=0, total=0))),\n",
       " 'openai-ip/eng_fact_large_4.jsonl': ('file-RFBH4nctaasWMcLuQKoE9tux',\n",
       "  Batch(id='batch_KQ7JAUgMdjIprAWg0D57Nf6T', completion_window='24h', created_at=1723492844, endpoint='/v1/embeddings', input_file_id='file-RFBH4nctaasWMcLuQKoE9tux', object='batch', status='validating', cancelled_at=None, cancelling_at=None, completed_at=None, error_file_id=None, errors=None, expired_at=None, expires_at=1723579244, failed_at=None, finalizing_at=None, in_progress_at=None, metadata={'description': 'job for file at input: openai-ip/eng_fact_large_4.jsonl; batch_input_file_id : file-RFBH4nctaasWMcLuQKoE9tux'}, output_file_id=None, request_counts=BatchRequestCounts(completed=0, failed=0, total=0))),\n",
       " 'openai-ip/orig_fact_large_0.jsonl': ('file-SczizcvvvvAf0UpxFtAGp66X',\n",
       "  Batch(id='batch_0eTkeXANc62XEdfTgNh17mgy', completion_window='24h', created_at=1723492845, endpoint='/v1/embeddings', input_file_id='file-SczizcvvvvAf0UpxFtAGp66X', object='batch', status='validating', cancelled_at=None, cancelling_at=None, completed_at=None, error_file_id=None, errors=None, expired_at=None, expires_at=1723579245, failed_at=None, finalizing_at=None, in_progress_at=None, metadata={'description': 'job for file at input: openai-ip/orig_fact_large_0.jsonl; batch_input_file_id : file-SczizcvvvvAf0UpxFtAGp66X'}, output_file_id=None, request_counts=BatchRequestCounts(completed=0, failed=0, total=0))),\n",
       " 'openai-ip/orig_fact_large_1.jsonl': ('file-FylqEdxoZsxxsLz7toztEbuV',\n",
       "  Batch(id='batch_cbDPiju0NXWW06AqJkZRos4J', completion_window='24h', created_at=1723492847, endpoint='/v1/embeddings', input_file_id='file-FylqEdxoZsxxsLz7toztEbuV', object='batch', status='validating', cancelled_at=None, cancelling_at=None, completed_at=None, error_file_id=None, errors=None, expired_at=None, expires_at=1723579247, failed_at=None, finalizing_at=None, in_progress_at=None, metadata={'description': 'job for file at input: openai-ip/orig_fact_large_1.jsonl; batch_input_file_id : file-FylqEdxoZsxxsLz7toztEbuV'}, output_file_id=None, request_counts=BatchRequestCounts(completed=0, failed=0, total=0))),\n",
       " 'openai-ip/orig_fact_large_2.jsonl': ('file-euKMmu70DJH0Di7Ig9uYUlBz',\n",
       "  Batch(id='batch_OZLOFHFtcKBLn5QZ6AvgQjm8', completion_window='24h', created_at=1723492848, endpoint='/v1/embeddings', input_file_id='file-euKMmu70DJH0Di7Ig9uYUlBz', object='batch', status='validating', cancelled_at=None, cancelling_at=None, completed_at=None, error_file_id=None, errors=None, expired_at=None, expires_at=1723579248, failed_at=None, finalizing_at=None, in_progress_at=None, metadata={'description': 'job for file at input: openai-ip/orig_fact_large_2.jsonl; batch_input_file_id : file-euKMmu70DJH0Di7Ig9uYUlBz'}, output_file_id=None, request_counts=BatchRequestCounts(completed=0, failed=0, total=0))),\n",
       " 'openai-ip/orig_fact_large_3.jsonl': ('file-ssZiut3PnoHsVBZygys3e2b5',\n",
       "  Batch(id='batch_yEG1uAfkqICmRxcu58ETWstm', completion_window='24h', created_at=1723492850, endpoint='/v1/embeddings', input_file_id='file-ssZiut3PnoHsVBZygys3e2b5', object='batch', status='validating', cancelled_at=None, cancelling_at=None, completed_at=None, error_file_id=None, errors=None, expired_at=None, expires_at=1723579250, failed_at=None, finalizing_at=None, in_progress_at=None, metadata={'description': 'job for file at input: openai-ip/orig_fact_large_3.jsonl; batch_input_file_id : file-ssZiut3PnoHsVBZygys3e2b5'}, output_file_id=None, request_counts=BatchRequestCounts(completed=0, failed=0, total=0))),\n",
       " 'openai-ip/orig_fact_large_4.jsonl': ('file-GlUSTR0JRD1Hy7Mj967pou67',\n",
       "  Batch(id='batch_IaBJzxUDTYe5Cd0V4woP8ZdQ', completion_window='24h', created_at=1723492852, endpoint='/v1/embeddings', input_file_id='file-GlUSTR0JRD1Hy7Mj967pou67', object='batch', status='validating', cancelled_at=None, cancelling_at=None, completed_at=None, error_file_id=None, errors=None, expired_at=None, expires_at=1723579252, failed_at=None, finalizing_at=None, in_progress_at=None, metadata={'description': 'job for file at input: openai-ip/orig_fact_large_4.jsonl; batch_input_file_id : file-GlUSTR0JRD1Hy7Mj967pou67'}, output_file_id=None, request_counts=BatchRequestCounts(completed=0, failed=0, total=0))),\n",
       " 'openai-ip/l1_post_large_df.jsonl': ('file-46ETmEMWUjzNYIJk3IE5VZfI',\n",
       "  Batch(id='batch_9LxDfXOvRMcIT0HfrUBBdQdr', completion_window='24h', created_at=1723492853, endpoint='/v1/embeddings', input_file_id='file-46ETmEMWUjzNYIJk3IE5VZfI', object='batch', status='validating', cancelled_at=None, cancelling_at=None, completed_at=None, error_file_id=None, errors=None, expired_at=None, expires_at=1723579253, failed_at=None, finalizing_at=None, in_progress_at=None, metadata={'description': 'job for file at input: openai-ip/l1_post_large_df.jsonl; batch_input_file_id : file-46ETmEMWUjzNYIJk3IE5VZfI'}, output_file_id=None, request_counts=BatchRequestCounts(completed=0, failed=0, total=0))),\n",
       " 'openai-ip/l2_post_large_df.jsonl': ('file-3ibSmh53JNAdfCNx0czc5b5R',\n",
       "  Batch(id='batch_lhngq4NFlGh1ncRbRtJYiR1t', completion_window='24h', created_at=1723492855, endpoint='/v1/embeddings', input_file_id='file-3ibSmh53JNAdfCNx0czc5b5R', object='batch', status='validating', cancelled_at=None, cancelling_at=None, completed_at=None, error_file_id=None, errors=None, expired_at=None, expires_at=1723579255, failed_at=None, finalizing_at=None, in_progress_at=None, metadata={'description': 'job for file at input: openai-ip/l2_post_large_df.jsonl; batch_input_file_id : file-3ibSmh53JNAdfCNx0czc5b5R'}, output_file_id=None, request_counts=BatchRequestCounts(completed=0, failed=0, total=0)))}"
      ]
     },
     "execution_count": 13,
     "metadata": {},
     "output_type": "execute_result"
    }
   ],
   "source": [
    "batch_file2ids"
   ]
  },
  {
   "cell_type": "markdown",
   "metadata": {},
   "source": [
    "### BATCH TRACKERS\n",
    "- facts-original: batch_Vqz57UlMWEcdvx2LgkASpI5Y"
   ]
  },
  {
   "cell_type": "markdown",
   "metadata": {},
   "source": [
    "{'openai-ip/eng_fact_0.jsonl': ('file-1DdhKF6v6sCbQ3DXj83GGt7o',\n",
    "  Batch(id='batch_uwqGdPPck2HkSzC5L7hFbRt1', completion_window='24h', created_at=1723444161, endpoint='/v1/embeddings', input_file_id='file-1DdhKF6v6sCbQ3DXj83GGt7o', object='batch', status='validating', cancelled_at=None, cancelling_at=None, completed_at=None, error_file_id=None, errors=None, expired_at=None, expires_at=1723530561, failed_at=None, finalizing_at=None, in_progress_at=None, metadata={'description': 'job for file at input: openai-ip/eng_fact_0.jsonl; batch_input_file_id : file-1DdhKF6v6sCbQ3DXj83GGt7o'}, output_file_id=None, request_counts=BatchRequestCounts(completed=0, failed=0, total=0))),\n",
    "  \n",
    " 'openai-ip/eng_fact_1.jsonl': ('file-0g0zL9AEbvIjVzbSxA040b1V',\n",
    "  Batch(id='batch_LSNUI0NXb1Iyc9ExOIsG5Njt', completion_window='24h', created_at=1723444162, endpoint='/v1/embeddings', input_file_id='file-0g0zL9AEbvIjVzbSxA040b1V', object='batch', status='validating', cancelled_at=None, cancelling_at=None, completed_at=None, error_file_id=None, errors=None, expired_at=None, expires_at=1723530562, failed_at=None, finalizing_at=None, in_progress_at=None, metadata={'description': 'job for file at input: openai-ip/eng_fact_1.jsonl; batch_input_file_id : file-0g0zL9AEbvIjVzbSxA040b1V'}, output_file_id=None, request_counts=BatchRequestCounts(completed=0, failed=0, total=0))),\n",
    "\n",
    " 'openai-ip/eng_fact_2.jsonl': ('file-pyTTLAcv4jThRaTnrKrPyVZb',\n",
    "  Batch(id='batch_NWLU4GEjVifH8TIx8C7E7mSO', completion_window='24h', created_at=1723444164, endpoint='/v1/embeddings', input_file_id='file-pyTTLAcv4jThRaTnrKrPyVZb', object='batch', status='validating', cancelled_at=None, cancelling_at=None, completed_at=None, error_file_id=None, errors=None, expired_at=None, expires_at=1723530564, failed_at=None, finalizing_at=None, in_progress_at=None, metadata={'description': 'job for file at input: openai-ip/eng_fact_2.jsonl; batch_input_file_id : file-pyTTLAcv4jThRaTnrKrPyVZb'}, output_file_id=None, request_counts=BatchRequestCounts(completed=0, failed=0, total=0))),\n",
    "\n",
    " 'openai-ip/eng_fact_3.jsonl': ('file-h8IRAgsvHNgaUFhyKXs8Iiyn',\n",
    "  Batch(id='batch_Zv5IpylKcvFTRHvOxmj1QAkC', completion_window='24h', created_at=1723444165, endpoint='/v1/embeddings', input_file_id='file-h8IRAgsvHNgaUFhyKXs8Iiyn', object='batch', status='validating', cancelled_at=None, cancelling_at=None, completed_at=None, error_file_id=None, errors=None, expired_at=None, expires_at=1723530565, failed_at=None, finalizing_at=None, in_progress_at=None, metadata={'description': 'job for file at input: openai-ip/eng_fact_3.jsonl; batch_input_file_id : file-h8IRAgsvHNgaUFhyKXs8Iiyn'}, output_file_id=None, request_counts=BatchRequestCounts(completed=0, failed=0, total=0))),\n",
    "\n",
    " 'openai-ip/eng_fact_4.jsonl': ('file-fyNMatocBghOShgR2FAaHoWE',\n",
    "  Batch(id='batch_CbQjeyDo20dtrJGxFEzgFUM2', completion_window='24h', created_at=1723444167, endpoint='/v1/embeddings', input_file_id='file-fyNMatocBghOShgR2FAaHoWE', object='batch', status='validating', cancelled_at=None, cancelling_at=None, completed_at=None, error_file_id=None, errors=None, expired_at=None, expires_at=1723530567, failed_at=None, finalizing_at=None, in_progress_at=None, metadata={'description': 'job for file at input: openai-ip/eng_fact_4.jsonl; batch_input_file_id : file-fyNMatocBghOShgR2FAaHoWE'}, output_file_id=None, request_counts=BatchRequestCounts(completed=0, failed=0, total=0))),\n",
    "\n",
    " 'openai-ip/orig_fact_0.jsonl': ('file-S2hiO1DVrJEuiRiUwIXGwPsg',\n",
    "  Batch(id='batch_NMtze5sSAsyQ5tD17TRhC6XI', completion_window='24h', created_at=1723444168, endpoint='/v1/embeddings', input_file_id='file-S2hiO1DVrJEuiRiUwIXGwPsg', object='batch', status='validating', cancelled_at=None, cancelling_at=None, completed_at=None, error_file_id=None, errors=None, expired_at=None, expires_at=1723530568, failed_at=None, finalizing_at=None, in_progress_at=None, metadata={'description': 'job for file at input: openai-ip/orig_fact_0.jsonl; batch_input_file_id : file-S2hiO1DVrJEuiRiUwIXGwPsg'}, output_file_id=None, request_counts=BatchRequestCounts(completed=0, failed=0, total=0))),\n",
    "\n",
    " 'openai-ip/orig_fact_1.jsonl': ('file-B3rHD9tDZzWSfPRpb3wMdOxg',\n",
    "  Batch(id='batch_PDeZVbNUTUSSiKBkBiTZJXyB', completion_window='24h', created_at=1723444169, endpoint='/v1/embeddings', input_file_id='file-B3rHD9tDZzWSfPRpb3wMdOxg', object='batch', status='validating', cancelled_at=None, cancelling_at=None, completed_at=None, error_file_id=None, errors=None, expired_at=None, expires_at=1723530569, failed_at=None, finalizing_at=None, in_progress_at=None, metadata={'description': 'job for file at input: openai-ip/orig_fact_1.jsonl; batch_input_file_id : file-B3rHD9tDZzWSfPRpb3wMdOxg'}, output_file_id=None, request_counts=BatchRequestCounts(completed=0, failed=0, total=0))),\n",
    "\n",
    " 'openai-ip/orig_fact_2.jsonl': ('file-hXHoyE3EdNcV12vN8AhCTdmq',\n",
    "  Batch(id='batch_c63E5C020GMwtLX7Cwku1kt8', completion_window='24h', created_at=1723444170, endpoint='/v1/embeddings', input_file_id='file-hXHoyE3EdNcV12vN8AhCTdmq', object='batch', status='validating', cancelled_at=None, cancelling_at=None, completed_at=None, error_file_id=None, errors=None, expired_at=None, expires_at=1723530570, failed_at=None, finalizing_at=None, in_progress_at=None, metadata={'description': 'job for file at input: openai-ip/orig_fact_2.jsonl; batch_input_file_id : file-hXHoyE3EdNcV12vN8AhCTdmq'}, output_file_id=None, request_counts=BatchRequestCounts(completed=0, failed=0, total=0))),\n",
    "\n",
    " 'openai-ip/orig_fact_3.jsonl': ('file-tIRBK5VyYDMG9zqBG2dBwgRc',\n",
    "  Batch(id='batch_w9ssRkTQYzHPT9wWtlLue4tZ', completion_window='24h', created_at=1723444172, endpoint='/v1/embeddings', input_file_id='file-tIRBK5VyYDMG9zqBG2dBwgRc', object='batch', status='validating', cancelled_at=None, cancelling_at=None, completed_at=None, error_file_id=None, errors=None, expired_at=None, expires_at=1723530572, failed_at=None, finalizing_at=None, in_progress_at=None, metadata={'description': 'job for file at input: openai-ip/orig_fact_3.jsonl; batch_input_file_id : file-tIRBK5VyYDMG9zqBG2dBwgRc'}, output_file_id=None, request_counts=BatchRequestCounts(completed=0, failed=0, total=0))),\n",
    "\n",
    " 'openai-ip/orig_fact_4.jsonl': ('file-FLGahSDvEXcTWVAgQh2Tpw0f',\n",
    "  Batch(id='batch_NDKmtUNyVIaUNFYxPMCI4hSZ', completion_window='24h', created_at=1723444173, endpoint='/v1/embeddings', input_file_id='file-FLGahSDvEXcTWVAgQh2Tpw0f', object='batch', status='validating', cancelled_at=None, cancelling_at=None, completed_at=None, error_file_id=None, errors=None, expired_at=None, expires_at=1723530573, failed_at=None, finalizing_at=None, in_progress_at=None, metadata={'description': 'job for file at input: openai-ip/orig_fact_4.jsonl; batch_input_file_id : file-FLGahSDvEXcTWVAgQh2Tpw0f'}, output_file_id=None, request_counts=BatchRequestCounts(completed=0, failed=0, total=0))),\n",
    "\n",
    " 'openai-ip/l1_post_df.jsonl': ('file-83JDXEoNSsK4zD0vpIyylg83',\n",
    "  Batch(id='batch_pzGbVEHvtuW6K6WU9R2tmGEf', completion_window='24h', created_at=1723444175, endpoint='/v1/embeddings', input_file_id='file-83JDXEoNSsK4zD0vpIyylg83', object='batch', status='validating', cancelled_at=None, cancelling_at=None, completed_at=None, error_file_id=None, errors=None, expired_at=None, expires_at=1723530575, failed_at=None, finalizing_at=None, in_progress_at=None, metadata={'description': 'job for file at input: openai-ip/l1_post_df.jsonl; batch_input_file_id : file-83JDXEoNSsK4zD0vpIyylg83'}, output_file_id=None, request_counts=BatchRequestCounts(completed=0, failed=0, total=0))),\n",
    "  \n",
    " 'openai-ip/l2_post_df.jsonl': ('file-df3nFQ0RuFsgJLZNt1c7OXzM',\n",
    "  Batch(id='batch_XFg9ofIMjjFx3zk2hxxoJTPe', completion_window='24h', created_at=1723444176, endpoint='/v1/embeddings', input_file_id='file-df3nFQ0RuFsgJLZNt1c7OXzM', object='batch', status='validating', cancelled_at=None, cancelling_at=None, completed_at=None, error_file_id=None, errors=None, expired_at=None, expires_at=1723530576, failed_at=None, finalizing_at=None, in_progress_at=None, metadata={'description': 'job for file at input: openai-ip/l2_post_df.jsonl; batch_input_file_id : file-df3nFQ0RuFsgJLZNt1c7OXzM'}, output_file_id=None, request_counts=BatchRequestCounts(completed=0, failed=0, total=0)))}"
   ]
  },
  {
   "cell_type": "code",
   "execution_count": 13,
   "metadata": {},
   "outputs": [],
   "source": [
    "file_response = client.files.content('file-hXHoyE3EdNcV12vN8AhCTdmq')\n",
    "res = file_response.content"
   ]
  },
  {
   "cell_type": "code",
   "execution_count": 19,
   "metadata": {},
   "outputs": [],
   "source": [
    "result_file_name = \"openai-op/temp.jsonl\"\n",
    "\n",
    "with open(result_file_name, 'wb') as file:\n",
    "    file.write(res)"
   ]
  },
  {
   "cell_type": "code",
   "execution_count": null,
   "metadata": {},
   "outputs": [],
   "source": [
    "batch_status = client.batches.retrieve(f\"{batch_response.id}\")"
   ]
  },
  {
   "cell_type": "code",
   "execution_count": null,
   "metadata": {},
   "outputs": [],
   "source": [
    "\n",
    "file_response = client.files.content(batch_status.output_file_id)\n",
    "result = file_response.content\n",
    "\n",
    "result_file_name = \"openai-op/eval_facts_encode_fact_orig.jsonl\"\n",
    "\n",
    "with open(result_file_name, 'wb') as file:\n",
    "    file.write(result)"
   ]
  },
  {
   "cell_type": "code",
   "execution_count": null,
   "metadata": {},
   "outputs": [],
   "source": [
    "import json\n",
    "# Loading data from saved file\n",
    "results = []\n",
    "with open(result_file_name, 'r') as file:\n",
    "    for line in file:\n",
    "        # Parsing the JSON string into a dict and appending to the list of results\n",
    "        json_object = json.loads(line.strip())\n",
    "        results.append(json_object)"
   ]
  },
  {
   "cell_type": "code",
   "execution_count": null,
   "metadata": {},
   "outputs": [],
   "source": [
    "pd.DataFrame(results).iloc[0]['response']['body']['data'][0]['embedding']"
   ]
  },
  {
   "cell_type": "code",
   "execution_count": null,
   "metadata": {},
   "outputs": [],
   "source": []
  }
 ],
 "metadata": {
  "kernelspec": {
   "display_name": "mlingual",
   "language": "python",
   "name": "python3"
  },
  "language_info": {
   "codemirror_mode": {
    "name": "ipython",
    "version": 3
   },
   "file_extension": ".py",
   "mimetype": "text/x-python",
   "name": "python",
   "nbconvert_exporter": "python",
   "pygments_lexer": "ipython3",
   "version": "3.11.9"
  }
 },
 "nbformat": 4,
 "nbformat_minor": 2
}
